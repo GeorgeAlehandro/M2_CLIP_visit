{
 "cells": [
  {
   "cell_type": "markdown",
   "id": "7e719a52",
   "metadata": {},
   "source": [
    "## RNA velocity computation\n",
    "This script notebook uses velocyto and scvelo to compute the RNA velocity of a given scRNASeq dataset and display some of the results.  \n",
    "velocyto documentation: http://velocyto.org/velocyto.py/index.html  \n",
    "scvelo documentation: https://scvelo.readthedocs.io/  \n",
    "scvelo paper: https://www.nature.com/articles/s41587-020-0591-3  \n",
    "\n",
    "The working directory is Ahmad_workdir"
   ]
  },
  {
   "cell_type": "code",
   "execution_count": null,
   "id": "23fc565c",
   "metadata": {},
   "outputs": [],
   "source": [
    "# Python libraries\n",
    "!pip install python-igraph louvain\n",
    "!pip install pybind11 hnswlib pysam\n",
    "!pip install scvelo\n",
    "!pip install velocyto\n",
    "!pip install --user annoy\n",
    "!pip install git+https://github.com/aiksi/vaevictis"
   ]
  },
  {
   "cell_type": "code",
   "execution_count": null,
   "id": "0346e08c",
   "metadata": {},
   "outputs": [],
   "source": [
    "!conda install numpy scipy cython numba matplotlib scikit-learn h5py click --yes"
   ]
  },
  {
   "cell_type": "code",
   "execution_count": null,
   "id": "7c4cb513",
   "metadata": {},
   "outputs": [],
   "source": [
    "!conda install -c r -c bioconda pysam --yes"
   ]
  },
  {
   "cell_type": "code",
   "execution_count": null,
   "id": "a3f4ac01",
   "metadata": {},
   "outputs": [],
   "source": [
    "!conda install -c bioconda samtools=1.15 --yes"
   ]
  },
  {
   "cell_type": "code",
   "execution_count": null,
   "id": "c8fc1667",
   "metadata": {},
   "outputs": [],
   "source": [
    "# This command did not work due to the data not having the exact structure velocyto excpects from a 10x experiment.\n",
    "!velocyto run10x cellranger/Thymus2/outs/multi/count refdata-gex-GRCh38-2020-A/genes/genes.gtf"
   ]
  },
  {
   "cell_type": "code",
   "execution_count": null,
   "id": "20114982",
   "metadata": {},
   "outputs": [],
   "source": [
    "# Syntax: velocyto run -o [output dir] [.bam file with spliced/unspliced data] [reference data] -b [cell barcode file]\n",
    "!velocyto run -o scvelo_out cellranger/Thymus2/outs/per_sample_outs/Thymus2/count/sample_alignments.bam refdata-gex-GRCh38-2020-A/genes/genes.gtf\n",
    "# Outputs a .loom file which will be used for downstream analysis"
   ]
  },
  {
   "cell_type": "code",
   "execution_count": null,
   "id": "14af55e4",
   "metadata": {},
   "outputs": [],
   "source": [
    "# Imports\n",
    "import scvelo as scv\n",
    "import pandas as pd\n",
    "from vaevictis import dimred\n",
    "import os\n",
    "\n",
    "scv.set_figure_params()\n",
    "os.chdir('/data')"
   ]
  },
  {
   "cell_type": "markdown",
   "id": "4ceba63b",
   "metadata": {},
   "source": [
    "### Dataset #1: human thymus"
   ]
  },
  {
   "cell_type": "code",
   "execution_count": null,
   "id": "e2bcf4d0",
   "metadata": {},
   "outputs": [],
   "source": [
    "# read output loom file\n",
    "# the loom filename is different for every velocyto output, check in the output folder\n",
    "adata = scv.read('scvelo_out/sample_alignments_SHGNY.loom', cache=True)\n",
    "adata.var_names_make_unique()\n",
    "# The adata object is part of the anndata ecosystem. More details on how to handle such an object at https://adamgayoso.com/posts/ten_min_to_adata/"
   ]
  },
  {
   "cell_type": "code",
   "execution_count": null,
   "id": "72216825",
   "metadata": {},
   "outputs": [],
   "source": [
    "# It is possible to filter the adata object using saved gene and cell barcodes\n",
    "# However it is more efficient to pass a cell barcode file (.tsv.gz) directly as argument when calling velocyto\n",
    "gene_inds = pd.read_csv('thy_filt_genes.csv', delimiter=',').values.tolist()\n",
    "gene_inds = [g[0] for g in gene_inds]\n",
    "cell_inds = pd.read_csv('thy_filt_cells.csv', delimiter=',').values.tolist()\n",
    "cell_inds = [c[0] for c in cell_inds]\n",
    "cell_inter = list(set(cell_inds).intersection(adata.obs_names))\n",
    "gene_inter = list(set(gene_inds).intersection(adata.var_names))\n",
    "adata = adata[cell_inter, gene_inter]"
   ]
  },
  {
   "cell_type": "code",
   "execution_count": null,
   "id": "2adb78ad",
   "metadata": {},
   "outputs": [],
   "source": [
    "# It is possible to compute vaevictis embeddings here, or to import embeddings computed beforehand (see later)\n",
    "\n",
    "vae = dimred(adata.X.toarray(), \n",
    "             ww=[5., 0., 10., 5., 2., 1.],\n",
    "             epochs=40,\n",
    "             patience=4)\n",
    "vae=vae[0]"
   ]
  },
  {
   "cell_type": "code",
   "execution_count": null,
   "id": "2ebe7b83",
   "metadata": {},
   "outputs": [],
   "source": [
    "# Export embeddings to a file if needed\n",
    "# .mtx is a marix sharing file format that can be read in R via Matrix::readMM()\n",
    "scipy.io.mmwrite('scvelo_out/sample_alignments_SHGNY_red.mtx', vae[0])"
   ]
  },
  {
   "cell_type": "code",
   "execution_count": null,
   "id": "07cd0680",
   "metadata": {},
   "outputs": [],
   "source": [
    "# Add embeddings to the adata object\n",
    "adata.uns['vae'] = {'params': {'ww': [5., 0., 5., 5., 2., 1.]}} # not necessary\n",
    "adata.obsm['X_vae'] = vae"
   ]
  },
  {
   "cell_type": "code",
   "execution_count": null,
   "id": "a77e67a1",
   "metadata": {},
   "outputs": [],
   "source": [
    "# preprocessing\n",
    "scv.pp.filter_and_normalize(adata, min_shared_counts=20, n_top_genes=3000)\n",
    "scv.pp.moments(adata, n_pcs=30, n_neighbors=30)\n",
    "scv.tl.umap(adata) # umap not necessary if vaevictis has been used, but can be useful for a different visualization\n",
    "# compute velocity\n",
    "scv.tl.velocity(adata, mode='stochastic') # 3 possible modes: 'steady_state', 'dynamical', 'stochastic'\n",
    "# build general graph\n",
    "scv.pl.velocity_graph(adata, basis='vae')\n",
    "# phase portraits of specific genes\n",
    "# var_names is a list of any genes you want to focus on\n",
    "# scv.pl.velocity(adata, var_names=['CD4', 'TOP2A'], basis='vae')\n",
    "# compute latent time\n",
    "scv.tl.recover_dynamics(adata)\n",
    "scv.tl.latent_time(adata)"
   ]
  },
  {
   "cell_type": "code",
   "execution_count": null,
   "id": "afa30b71",
   "metadata": {},
   "outputs": [],
   "source": [
    "# visualization (see docs for plot parameters)\n",
    "# velocity projection\n",
    "scv.pl.velocity_embedding_stream(adata, basis='vae')\n",
    "# view latent time \n",
    "scv.pl.scatter(adata, color='latent_time', color_map='gnuplot', basis='vae')\n",
    "# view pseudotime (similarity-based diffusion pseudotime)\n",
    "scv.pl.scatter(adata, color='velocity_pseudotime', color_map='gnuplot', basis='vae')"
   ]
  },
  {
   "cell_type": "markdown",
   "id": "8dfb3c33",
   "metadata": {},
   "source": [
    "### Dataset #2: mice organs\n",
    "This dataset is comprised of 4 samples (DNWT, DNMUT, TOTWT, TOTMUT) that can be analyzed separately or merged together.  \n",
    "The analyzed data corresponds to the most recent pre-processing iteration in mice_analysis_final.R"
   ]
  },
  {
   "cell_type": "code",
   "execution_count": null,
   "id": "76eb337a",
   "metadata": {},
   "outputs": [],
   "source": [
    "# here the -b argument was used to specify a barcode file to filter cells \n",
    "!velocyto run -o scvelo_out/DNWT cellranger/Mice/08-23/DNWT/outs/per_sample_outs/DNWT/count/sample_alignments.bam mice_ref/genes.gtf -b velocyto_barcodes/DNWT_filt.tsv.gz"
   ]
  },
  {
   "cell_type": "code",
   "execution_count": null,
   "id": "b843ba98",
   "metadata": {},
   "outputs": [],
   "source": [
    "!velocyto run -o scvelo_out/DNMUT cellranger/Mice/08-23/DNMUT/outs/per_sample_outs/DNMUT/count/sample_alignments.bam mice_ref/genes.gtf -b velocyto_barcodes/DNMUT_filt.tsv.gz"
   ]
  },
  {
   "cell_type": "code",
   "execution_count": null,
   "id": "828c0f96",
   "metadata": {
    "scrolled": true
   },
   "outputs": [],
   "source": [
    "!velocyto run -o scvelo_out/TOTWT cellranger/Mice/08-23/TOTWT/outs/per_sample_outs/TOTWT/count/sample_alignments.bam mice_ref/genes.gtf -b velocyto_barcodes/TOTWT_filt.tsv.gz"
   ]
  },
  {
   "cell_type": "code",
   "execution_count": null,
   "id": "f2a790e2",
   "metadata": {
    "scrolled": true
   },
   "outputs": [],
   "source": [
    "!velocyto run -o scvelo_out/TOTMUT cellranger/Mice/08-23/TOTMUT/outs/per_sample_outs/TOTMUT/count/sample_alignments.bam mice_ref/genes.gtf -b velocyto_barcodes/TOTMUT_filt.tsv.gz"
   ]
  },
  {
   "cell_type": "code",
   "execution_count": null,
   "id": "b25d2b78",
   "metadata": {},
   "outputs": [],
   "source": [
    "# Import vaevictis embeddings from .csv\n",
    "# These embeddings were computed in R after having preprocessed the data using Seurat and denoised it using Rmagic\n",
    "# To have an uniform map, the embeddings correspond to the merged dataset\n",
    "full_vae = pd.read_csv('seurat_mice_out/mice_all_red2.csv', header=None)\n",
    "full_vae = full_vae.set_index(keys=[0])\n",
    "names = full_vae.index.values.tolist()\n",
    "names = [c.split('-')[0] for c in names] # remove the -1 suffixes that were added by seurat to handle duplicates\n",
    "full_vae.index = names\n",
    "full_vae"
   ]
  },
  {
   "cell_type": "code",
   "execution_count": null,
   "id": "c3cd8d69",
   "metadata": {},
   "outputs": [],
   "source": [
    "# read sample 1 (DNWT)\n",
    "aDNWT = scv.read('scvelo_out/DNWT/sample_alignments_BKC62.loom', cache=True)\n",
    "# preproc\n",
    "scv.pp.filter_and_normalize(aDNWT, min_shared_counts=20, n_top_genes=3000)\n",
    "scv.pp.moments(aDNWT, n_pcs=30, n_neighbors=30)\n",
    "# add dimred\n",
    "# warning: the order of cells between the imported embeddings and the loom output of velocyto is not the same\n",
    "dnwt_brcd = aDNWT.obs_names.values.tolist()\n",
    "dnwt_brcd = [c.split(':')[-1][:-1] for c in dnwt_brcd] # fix cell name formatting\n",
    "aDNWT.uns['vae'] = {}\n",
    "n1 = aDNWT.shape[0]\n",
    "aDNWT.obsm['X_vae'] = full_vae.iloc[:n1,:].loc[dnwt_brcd].values # filter and reorder embedding\n",
    "# velocity tools\n",
    "scv.tl.velocity(aDNWT, mode='stochastic')\n",
    "scv.tl.velocity_graph(aDNWT, basis = None, approx=True)\n",
    "# latent time\n",
    "scv.tl.recover_dynamics(aDNWT)\n",
    "scv.tl.latent_time(aDNWT)\n",
    "scv.tl.umap(aDNWT)"
   ]
  },
  {
   "cell_type": "code",
   "execution_count": null,
   "id": "cef79a81",
   "metadata": {
    "scrolled": false
   },
   "outputs": [],
   "source": [
    "# phase portraits of specific genes\n",
    "# scv.pl.velocity(aDNWT, var_names=['CD4', 'TOP2A'], basis='vae')\n",
    "# velocity projection\n",
    "scv.pl.velocity_embedding_stream(aDNWT, basis='vae', size=15, dpi=360, density=4, alpha=1)\n",
    "scv.pl.scatter(aDNWT, color='latent_time', color_map='gnuplot', basis='vae', size=15, dpi=360, alpha=1)\n",
    "scv.pl.scatter(aDNWT, color='velocity_pseudotime', color_map='gnuplot', basis='vae', size=15, dpi=360, alpha=1)"
   ]
  },
  {
   "cell_type": "code",
   "execution_count": null,
   "id": "7467bbab",
   "metadata": {},
   "outputs": [],
   "source": [
    "# read sample 2 (DNMUT)\n",
    "aDNMUT = scv.read('scvelo_out/DNMUT/sample_alignments_TASXR.loom', cache=True)\n",
    "# preproc\n",
    "scv.pp.filter_and_normalize(aDNMUT, min_shared_counts=20, n_top_genes=3000)\n",
    "scv.pp.moments(aDNMUT, n_pcs=30, n_neighbors=30)\n",
    "# add dimred\n",
    "# warning: the order of cells between the imported embeddings and the loom output of velocyto is not the same\n",
    "dnmut_brcd = aDNMUT.obs_names.values.tolist()\n",
    "dnmut_brcd = [c.split(':')[-1][:-1] for c in dnmut_brcd]\n",
    "aDNMUT.uns['vae'] = {}\n",
    "n2 = aDNMUT.shape[0] + n1\n",
    "aDNMUT.obsm['X_vae'] = full_vae.iloc[n1:n2,:].loc[dnmut_brcd].values\n",
    "# velocity tools\n",
    "scv.tl.velocity(aDNMUT, mode='stochastic')\n",
    "scv.tl.velocity_graph(aDNMUT, basis = None, approx=True)\n",
    "# latent time\n",
    "scv.tl.recover_dynamics(aDNMUT)\n",
    "scv.tl.latent_time(aDNMUT)\n",
    "scv.tl.umap(aDNMUT)"
   ]
  },
  {
   "cell_type": "code",
   "execution_count": null,
   "id": "231ce28a",
   "metadata": {
    "scrolled": false
   },
   "outputs": [],
   "source": [
    "# phase portraits of specific genes\n",
    "# scv.pl.velocity(aDNMUT, var_names=['CD4', 'TOP2A'], basis='vae')\n",
    "# velocity projection\n",
    "scv.pl.velocity_embedding_stream(aDNMUT, basis='vae', size=15, dpi=360, density=4, alpha=1)\n",
    "scv.pl.scatter(aDNMUT, color='latent_time', color_map='gnuplot', basis='vae', size=15, dpi=360, alpha=1)\n",
    "scv.pl.scatter(aDNMUT, color='velocity_pseudotime', color_map='gnuplot', basis='vae', size=15, dpi=360, alpha=1)"
   ]
  },
  {
   "cell_type": "code",
   "execution_count": null,
   "id": "dc2c2c72",
   "metadata": {},
   "outputs": [],
   "source": [
    "# read sample 3 (TOTWT)\n",
    "aTOTWT = scv.read('scvelo_out/TOTWT/sample_alignments_O3KZL.loom', cache=True)\n",
    "# preproc\n",
    "scv.pp.filter_and_normalize(aTOTWT, min_shared_counts=20, n_top_genes=3000)\n",
    "scv.pp.moments(aTOTWT, n_pcs=30, n_neighbors=30)\n",
    "# add dimred\n",
    "# warning: the order of cells between the imported embeddings and the loom output of velocyto is not the same\n",
    "totwt_brcd = aTOTWT.obs_names.values.tolist()\n",
    "totwt_brcd = [c.split(':')[-1][:-1] for c in totwt_brcd]\n",
    "aTOTWT.uns['vae'] = {}\n",
    "n3 = aTOTWT.shape[0] + n2\n",
    "aTOTWT.obsm['X_vae'] = full_vae.iloc[n2:n3,:].loc[totwt_brcd].values\n",
    "# velocity tools\n",
    "scv.tl.velocity(aTOTWT, mode='stochastic')\n",
    "scv.tl.velocity_graph(aTOTWT, basis = None, approx=True)\n",
    "# latent time\n",
    "scv.tl.recover_dynamics(aTOTWT)\n",
    "scv.tl.latent_time(aTOTWT)\n",
    "scv.tl.umap(aTOTWT)"
   ]
  },
  {
   "cell_type": "code",
   "execution_count": null,
   "id": "2a17d318",
   "metadata": {
    "scrolled": false
   },
   "outputs": [],
   "source": [
    "# phase portraits of specific genes\n",
    "# scv.pl.velocity(aTOTWT, var_names=['CD4', 'TOP2A'], basis='vae')\n",
    "# velocity projection\n",
    "scv.pl.velocity_embedding_stream(aTOTWT, basis='vae', size=15, dpi=360, density=4, alpha=1)\n",
    "scv.pl.scatter(aTOTWT, color='latent_time', color_map='gnuplot', basis='vae', size=15, dpi=360, alpha=1)\n",
    "scv.pl.scatter(aTOTWT, color='velocity_pseudotime', color_map='gnuplot', basis='vae', size=15, dpi=360, alpha=1)"
   ]
  },
  {
   "cell_type": "code",
   "execution_count": null,
   "id": "f182da50",
   "metadata": {},
   "outputs": [],
   "source": [
    "# read sample 4 (TOTMUT)\n",
    "aTOTMUT = scv.read('scvelo_out/TOTMUT/sample_alignments_EDD3M.loom', cache=True)\n",
    "# preproc\n",
    "scv.pp.filter_and_normalize(aTOTMUT, min_shared_counts=20, n_top_genes=3000)\n",
    "scv.pp.moments(aTOTMUT, n_pcs=30, n_neighbors=30)\n",
    "# add dimred\n",
    "# warning: the order of cells between the imported embeddings and the loom output of velocyto is not the same\n",
    "totmut_brcd = aTOTMUT.obs_names.values.tolist()\n",
    "totmut_brcd = [c.split(':')[-1][:-1] for c in totmut_brcd]\n",
    "aTOTMUT.uns['vae'] = {}\n",
    "n4 = aTOTMUT.shape[0] + n3\n",
    "aTOTMUT.obsm['X_vae'] = full_vae.iloc[n3:n4,:].loc[totmut_brcd].values\n",
    "# velocity tools\n",
    "scv.tl.velocity(aTOTMUT, mode='stochastic')\n",
    "scv.tl.velocity_graph(aTOTMUT, basis = None, approx=True)\n",
    "# latent time\n",
    "scv.tl.recover_dynamics(aTOTMUT)\n",
    "scv.tl.latent_time(aTOTMUT)\n",
    "scv.tl.umap(aTOTMUT)"
   ]
  },
  {
   "cell_type": "code",
   "execution_count": null,
   "id": "ffc6db3c",
   "metadata": {
    "scrolled": false
   },
   "outputs": [],
   "source": [
    "# phase portraits of specific genes\n",
    "# scv.pl.velocity(aTOTMUT, var_names=['CD4', 'TOP2A'], basis='vae')\n",
    "# velocity projection\n",
    "scv.pl.velocity_embedding_stream(aTOTMUT, basis='vae', size=15, dpi=360, density=4, alpha=1)\n",
    "scv.pl.scatter(aTOTMUT, color='latent_time', color_map='gnuplot', basis='vae', size=15, dpi=360, alpha=1)\n",
    "# scv.pl.scatter(aTOTMUT, color='velocity_pseudotime', color_map='gnuplot', basis='vae', size=15, dpi=360, alpha=1)"
   ]
  },
  {
   "cell_type": "code",
   "execution_count": null,
   "id": "90161630",
   "metadata": {},
   "outputs": [],
   "source": [
    "# Merging .bam files together to apply velocyto on all samples at once\n",
    "# Command might not work in the jupyter notebook\n",
    "# If so, ssh into the server via console and access the container by 'docker exec -it scvelo_ahmad /bin/bash'\n",
    "# Then paste the command and run it (might take a few hours)\n",
    "samtools merge -o scvelo_out/sample_alignments_merged.bam cellranger/Mice/08-23/DNWT/outs/per_sample_outs/DNWT/count/sample_alignments.bam cellranger/Mice/08-23/DNMUT/outs/per_sample_outs/DNMUT/count/sample_alignments.bam cellranger/Mice/08-23/TOTWT/outs/per_sample_outs/TOTWT/count/sample_alignments.bam cellranger/Mice/08-23/TOTMUT/outs/per_sample_outs/TOTMUT/count/sample_alignments.bam"
   ]
  },
  {
   "cell_type": "code",
   "execution_count": null,
   "id": "728bd5f3",
   "metadata": {},
   "outputs": [],
   "source": [
    "!velocyto run -o scvelo_out/ALL scvelo_out/sample_alignments_merged.bam mice_ref/genes.gtf -b velocyto_barcodes/ALL_filt.tsv.gz"
   ]
  },
  {
   "cell_type": "code",
   "execution_count": null,
   "id": "edc64e42",
   "metadata": {},
   "outputs": [],
   "source": [
    "## stochastic mode\n",
    "# read\n",
    "aALL = scv.read('scvelo_out/ALL/sample_alignments_merged_3KNCI.loom', cache=True)\n",
    "# preproc\n",
    "scv.pp.filter_and_normalize(aALL, min_shared_counts=20, n_top_genes=3000)\n",
    "scv.pp.moments(aALL, n_pcs=30, n_neighbors=30)\n",
    "# add dimred\n",
    "# warning: the order of cells between the imported embeddings and the loom output of velocyto is not the same\n",
    "all_brcd = aALL.obs_names.values.tolist()\n",
    "all_brcd = [c.split(':')[-1][:-1] for c in all_brcd]\n",
    "aALL.uns['vae'] = {}\n",
    "full_vae_u = full_vae[~full_vae.index.duplicated(keep='first')] # a few dozen cells are duplicated \n",
    "aALL.obsm['X_vae'] = full_vae_u.loc[all_brcd].values\n",
    "# velocity tools\n",
    "scv.tl.velocity(aALL, mode='stochastic')\n",
    "scv.tl.velocity_graph(aALL, basis = None, approx=True)\n",
    "# latent time\n",
    "scv.tl.recover_dynamics(aALL)\n",
    "scv.tl.latent_time(aALL)\n",
    "scv.tl.umap(aALL)"
   ]
  },
  {
   "cell_type": "code",
   "execution_count": null,
   "id": "5840509c",
   "metadata": {
    "scrolled": false
   },
   "outputs": [],
   "source": [
    "# phase portraits of specific genes\n",
    "# scv.pl.velocity(aALL, var_names=['CD4', 'TOP2A'], basis='vae')\n",
    "# velocity projection\n",
    "scv.pl.velocity_embedding_stream(aALL, basis='vae', size=15, dpi=360, density=6, alpha=1)\n",
    "scv.pl.scatter(aALL, color='latent_time', color_map='gnuplot', basis='vae', size=15, dpi=360, alpha=1)\n",
    "scv.pl.scatter(aALL, color='velocity_pseudotime', color_map='gnuplot', basis='vae', size=15, dpi=360, alpha=1)"
   ]
  },
  {
   "cell_type": "code",
   "execution_count": null,
   "id": "2cce20cd",
   "metadata": {},
   "outputs": [],
   "source": [
    "## dynamical mode\n",
    "# read\n",
    "aALL = scv.read('scvelo_out/ALL/sample_alignments_merged_3KNCI.loom', cache=True)\n",
    "# preproc\n",
    "scv.pp.filter_and_normalize(aALL, min_shared_counts=20, n_top_genes=3000)\n",
    "scv.pp.moments(aALL, n_pcs=30, n_neighbors=30)\n",
    "# add dimred\n",
    "# warning: the order of cells between the imported embeddings and the loom output of velocyto is not the same\n",
    "all_brcd = aALL.obs_names.values.tolist()\n",
    "all_brcd = [c.split(':')[-1][:-1] for c in all_brcd]\n",
    "aALL.uns['vae'] = {}\n",
    "full_vae_u = full_vae[~full_vae.index.duplicated(keep='first')] # a few dozen cells are duplicated \n",
    "aALL.obsm['X_vae'] = full_vae_u.loc[all_brcd].values\n",
    "# velocity tools\n",
    "scv.tl.recover_dynamics(aALL)\n",
    "scv.tl.velocity(aALL, mode='dynamical')\n",
    "scv.tl.velocity_graph(aALL, basis = None, approx=True)\n",
    "# latent time\n",
    "scv.tl.latent_time(aALL)\n",
    "scv.tl.umap(aALL)"
   ]
  },
  {
   "cell_type": "code",
   "execution_count": null,
   "id": "a56252c4",
   "metadata": {},
   "outputs": [],
   "source": [
    "# phase portraits of specific genes\n",
    "# scv.pl.velocity(aALL, var_names=['CD4', 'TOP2A'], basis='vae')\n",
    "# velocity projection\n",
    "scv.pl.velocity_embedding_stream(aALL, basis='vae', size=15, dpi=360, density=6, alpha=1)\n",
    "scv.pl.scatter(aALL, color='latent_time', color_map='gnuplot', basis='vae', size=15, dpi=360, alpha=1)\n",
    "scv.pl.scatter(aALL, color='velocity_pseudotime', color_map='gnuplot', basis='vae', size=15, dpi=360, alpha=1)"
   ]
  },
  {
   "cell_type": "code",
   "execution_count": null,
   "id": "de9285e2",
   "metadata": {
    "scrolled": true
   },
   "outputs": [],
   "source": [
    "# Non-T-cells and Tgd cells (approx. 2k cells) have been removed to make this barcode file\n",
    "!velocyto run -o scvelo_out/ALL_T scvelo_out/sample_alignments_merged.bam mice_ref/genes.gtf -b velocyto_barcodes/ALL_filt_onlyT.tsv.gz"
   ]
  },
  {
   "cell_type": "code",
   "execution_count": null,
   "id": "7accf3c5",
   "metadata": {
    "scrolled": false
   },
   "outputs": [],
   "source": [
    "# read\n",
    "aALLT = scv.read('scvelo_out/ALL_T/sample_alignments_merged_5KJ8Z.loom', cache=True)\n",
    "# preproc\n",
    "scv.pp.filter_and_normalize(aALLT, min_shared_counts=20, n_top_genes=3000)\n",
    "scv.pp.moments(aALLT, n_pcs=30, n_neighbors=30)\n",
    "# add dimred\n",
    "# warning: the order of cells between the imported embeddings and the loom output of velocyto is not the same\n",
    "allt_brcd = aALLT.obs_names.values.tolist()\n",
    "allt_brcd = [c.split(':')[-1][:-1] for c in allt_brcd]\n",
    "aALLT.uns['vae'] = {}\n",
    "full_vae_u = full_vae[~full_vae.index.duplicated(keep='first')] # a few dozen cells are duplicated \n",
    "aALLT.obsm['X_vae'] = full_vae_u.loc[allt_brcd].values\n",
    "# velocity tools\n",
    "scv.tl.recover_dynamics(aALLT)\n",
    "scv.tl.velocity(aALLT, mode='stochastic')\n",
    "scv.tl.velocity_graph(aALLT, basis = None, approx=True)\n",
    "# latent time\n",
    "scv.tl.latent_time(aALLT)\n",
    "scv.tl.umap(aALLT)"
   ]
  },
  {
   "cell_type": "code",
   "execution_count": null,
   "id": "cccd8622",
   "metadata": {
    "scrolled": false
   },
   "outputs": [],
   "source": [
    "# phase portraits of specific genes\n",
    "# scv.pl.velocity(aALLT, var_names=['CD4', 'TOP2A'], basis='vae')\n",
    "# velocity projection\n",
    "scv.pl.velocity_embedding_stream(aALLT, basis='vae', size=15, dpi=360, density=6, alpha=1)\n",
    "scv.pl.scatter(aALLT, color='latent_time', color_map='gnuplot', basis='vae', size=15, dpi=360, alpha=1)\n",
    "scv.pl.scatter(aALLT, color='velocity_pseudotime', color_map='gnuplot', basis='vae', size=15, dpi=360, alpha=1)"
   ]
  }
 ],
 "metadata": {
  "kernelspec": {
   "display_name": "Python 3 (ipykernel)",
   "language": "python",
   "name": "python3"
  },
  "language_info": {
   "codemirror_mode": {
    "name": "ipython",
    "version": 3
   },
   "file_extension": ".py",
   "mimetype": "text/x-python",
   "name": "python",
   "nbconvert_exporter": "python",
   "pygments_lexer": "ipython3",
   "version": "3.10.8"
  }
 },
 "nbformat": 4,
 "nbformat_minor": 5
}
