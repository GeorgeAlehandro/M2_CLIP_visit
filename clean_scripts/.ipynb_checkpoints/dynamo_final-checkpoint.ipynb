{
 "cells": [
  {
   "cell_type": "markdown",
   "id": "029c1875",
   "metadata": {},
   "source": [
    "## dynamo: RNA velocity, vector field reconstruction and dynamics, and more\n",
    "This script notebook tests a few tools of the dynamo framework on an scRNASeq dataset.  \n",
    "dynamo documentation: https://dynamo-release.readthedocs.io/en/latest/  \n",
    "dynamo paper: https://www.sciencedirect.com/science/article/pii/S0092867421015774  \n",
    "dynamo tutorial (vector field reconstruction): https://dynamo-release.readthedocs.io/en/latest/notebooks/zebrafish.html  \n",
    "dynamo tutorial (differential geometry tools): https://dynamo-release.readthedocs.io/en/latest/notebooks/Differential_geometry.html  \n",
    "The framework is still in development, so errors and/or dependency conflicts could appear.  \n",
    "\n",
    "The working directory is Ahmad_workdir"
   ]
  },
  {
   "cell_type": "code",
   "execution_count": null,
   "id": "87592562",
   "metadata": {},
   "outputs": [],
   "source": [
    "!pip install KDEpy\n",
    "!git clone https://github.com/aristoteleo/dynamo-release.git\n",
    "!pip install dynamo-release/ --user\n",
    "!pip install nxviz==0.7.3\n",
    "!pip install yt"
   ]
  },
  {
   "cell_type": "code",
   "execution_count": null,
   "id": "85e5de29",
   "metadata": {},
   "outputs": [],
   "source": [
    "import dynamo as dyn\n",
    "dyn.configuration.set_figure_params('dynamo', background='white') # jupter notebooks"
   ]
  },
  {
   "cell_type": "code",
   "execution_count": null,
   "id": "d63f5a71",
   "metadata": {},
   "outputs": [],
   "source": [
    "# Pipeline using scvelo loom object\n",
    "\n",
    "# import precomputed vaevictis embeddings (see also rna_velocity_final.ipynb)\n",
    "import pandas as pd\n",
    "\n",
    "full_vae = pd.read_csv('seurat_mice_out/mice_all_red2.csv', header=None)\n",
    "full_vae = full_vae.set_index(keys=[0])\n",
    "names = full_vae.index.values.tolist()\n",
    "names = [c.split('-')[0] for c in names]\n",
    "full_vae.index = names\n",
    "\n",
    "# read loom file output of velocyto\n",
    "import scvelo as scv\n",
    "adataT = scv.read('scvelo_out/ALL_T/sample_alignments_merged_5KJ8Z.loom', cache=True)\n",
    "adataT.var_names_make_unique()\n",
    "\n",
    "# fix name formatting and add vaevictis embeddings\n",
    "all_brcd = adataT.obs_names.values.tolist()\n",
    "all_brcd = [c.split(':')[-1][:-1] for c in all_brcd]\n",
    "adataT.uns['vae'] = {}\n",
    "full_vae_u = full_vae[~full_vae.index.duplicated(keep='first')]\n",
    "adataT.obsm['X_vae'] = full_vae_u.loc[all_brcd].values"
   ]
  },
  {
   "cell_type": "code",
   "execution_count": null,
   "id": "5e51b9a6",
   "metadata": {},
   "outputs": [],
   "source": [
    "dyn.pp.recipe_monocle(adataT) # Preprocess\n",
    "dyn.tl.dynamics(adataT) # Learn dynamics\n",
    "dyn.tl.reduceDimension(adataT) # Reduce dim\n",
    "dyn.tl.cell_velocities(adataT, basis='vae') # Evaluate velocity vectors\n",
    "dyn.tl.cell_wise_confidence(adataT) # Evaluate cell-wise velocity confidence\n",
    "dyn.vf.VectorField(adataT, basis='vae') # Reconstruct vector field from learned velocity vectors\n",
    "dyn.vf.topography(adataT, basis='vae') # Characterize vector field topology\n",
    "dyn.ext.ddhodge(adataT, basis='vae') # Decompose vector field\n",
    "# dyn.vf.Potential(adataT) # Map potential landscape (function does not work as of September)"
   ]
  },
  {
   "cell_type": "code",
   "execution_count": null,
   "id": "901649a1",
   "metadata": {
    "scrolled": false
   },
   "outputs": [],
   "source": [
    "# Visualization\n",
    "dyn.pl.cell_wise_vectors(adataT, basis='vae', ncols=3)\n",
    "# dyn.pl.grid_vectors(adataT, basis='vae', ncols=3)\n",
    "dyn.pl.streamline_plot(adataT, basis='vae', ncols=3, density=2)\n",
    "dyn.pl.line_integral_conv(adataT, basis='vae')\n",
    "dyn.pl.topography(adataT, basis='vae', fps_basis='vae', init_cells=[675, 1788])"
   ]
  },
  {
   "cell_type": "code",
   "execution_count": null,
   "id": "30c23d99",
   "metadata": {},
   "outputs": [],
   "source": [
    "dyn.pl.topography(adataT, basis='vae', fps_basis='vae')\n",
    "# no difference was observed if the root cells are specified vs if they are not"
   ]
  },
  {
   "cell_type": "code",
   "execution_count": null,
   "id": "e35d147b",
   "metadata": {
    "scrolled": false
   },
   "outputs": [],
   "source": [
    "transition_genes = adataT.var_names[adataT.var.use_for_transition]\n",
    "dyn.pl.streamline_plot(adataT, color='vae_ddhodge_potential', basis='vae', density=2.5)"
   ]
  },
  {
   "cell_type": "code",
   "execution_count": null,
   "id": "d9695cdb",
   "metadata": {},
   "outputs": [],
   "source": [
    "# Vector field analysis for diffgeo tools\n",
    "dyn.vf.speed(adataT, basis='vae')\n",
    "dyn.vf.divergence(adataT, basis='vae')\n",
    "dyn.vf.acceleration(adataT, basis='vae')\n",
    "dyn.vf.curvature(adataT, basis='vae')\n",
    "dyn.vf.curl(adataT, basis='vae')"
   ]
  },
  {
   "cell_type": "code",
   "execution_count": null,
   "id": "d229a81b",
   "metadata": {},
   "outputs": [],
   "source": [
    "dyn.pl.streamline_plot(adataT, color='curvature_vae', basis='vae')"
   ]
  },
  {
   "cell_type": "code",
   "execution_count": null,
   "id": "b522b9c0",
   "metadata": {},
   "outputs": [],
   "source": [
    "dyn.pl.streamline_plot(adataT, color='curl_vae', basis='vae')"
   ]
  },
  {
   "cell_type": "code",
   "execution_count": null,
   "id": "bb5ca925",
   "metadata": {},
   "outputs": [],
   "source": [
    "# Compute Jacobian\n",
    "# Alleviate computation by taking top genes\n",
    "dyn.pp.top_pca_genes(adataT, n_top_genes=100)\n",
    "top_pca_genes = adataT.var.index[adataT.var.top_pca_genes]\n",
    "dyn.vf.jacobian(adataT, regulators=top_pca_genes, effectors=top_pca_genes)"
   ]
  }
 ],
 "metadata": {
  "kernelspec": {
   "display_name": "Python 3 (ipykernel)",
   "language": "python",
   "name": "python3"
  },
  "language_info": {
   "codemirror_mode": {
    "name": "ipython",
    "version": 3
   },
   "file_extension": ".py",
   "mimetype": "text/x-python",
   "name": "python",
   "nbconvert_exporter": "python",
   "pygments_lexer": "ipython3",
   "version": "3.10.8"
  }
 },
 "nbformat": 4,
 "nbformat_minor": 5
}
